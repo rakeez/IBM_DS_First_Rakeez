{
 "cells": [
  {
   "cell_type": "code",
   "execution_count": 1,
   "id": "dbd2af37",
   "metadata": {},
   "outputs": [
    {
     "name": "stdout",
     "output_type": "stream",
     "text": [
      "hello world\n"
     ]
    }
   ],
   "source": [
    "print('hello world')"
   ]
  },
  {
   "cell_type": "code",
   "execution_count": 5,
   "id": "ca6fa8e7",
   "metadata": {},
   "outputs": [
    {
     "name": "stdout",
     "output_type": "stream",
     "text": [
      "enter first number 56.25\n",
      "enter second number 55.23\n",
      "1.0200000000000031\n"
     ]
    }
   ],
   "source": [
    "first_number = input(\"enter first number \")\n",
    "second_number = input(\"enter second number \")\n",
    "answer = float(first_number) -float (second_number)\n",
    "print(answer)"
   ]
  },
  {
   "cell_type": "code",
   "execution_count": 10,
   "id": "4f5ce350",
   "metadata": {},
   "outputs": [
    {
     "name": "stdout",
     "output_type": "stream",
     "text": [
      "enter first number 55.23\n",
      "enter second number 22.33\n",
      "Difference is 32.9\n"
     ]
    }
   ],
   "source": [
    "first_number = input(\"enter first number \")\n",
    "second_number = input(\"enter second number \")\n",
    "answer = float(first_number) -float (second_number)\n",
    "print(\"Difference is \" + str(answer))"
   ]
  },
  {
   "cell_type": "code",
   "execution_count": 13,
   "id": "1d4c80ee",
   "metadata": {},
   "outputs": [
    {
     "name": "stdout",
     "output_type": "stream",
     "text": [
      "enter first number 55.23\n",
      "enter second number 22.3\n",
      "Difference is 32.92999999999999\n"
     ]
    }
   ],
   "source": [
    "first_number = input(\"enter first number \")\n",
    "second_number = input(\"enter second number \")\n",
    "answer = float(first_number) -float (second_number)\n",
    "answer = str(answer)\n",
    "print(\"Difference is \" + answer)"
   ]
  },
  {
   "cell_type": "code",
   "execution_count": 3,
   "id": "32e2597f",
   "metadata": {},
   "outputs": [
    {
     "name": "stdout",
     "output_type": "stream",
     "text": [
      "enter first number 55\n",
      "enter second number 55\n",
      "Difference is 0.0\n",
      "0.0\n"
     ]
    }
   ],
   "source": [
    "first_number = float(input(\"enter first number \"))\n",
    "second_number = float(input(\"enter second number \"))\n",
    "answer = first_number - second_number\n",
    "answer = str(answer)\n",
    "print(\"Difference is \" + answer)\n",
    "print (answer.upper())"
   ]
  },
  {
   "cell_type": "code",
   "execution_count": 2,
   "id": "e1ae2c2e",
   "metadata": {},
   "outputs": [
    {
     "ename": "NameError",
     "evalue": "name 'answer' is not defined",
     "output_type": "error",
     "traceback": [
      "\u001b[1;31m---------------------------------------------------------------------------\u001b[0m",
      "\u001b[1;31mNameError\u001b[0m                                 Traceback (most recent call last)",
      "Input \u001b[1;32mIn [2]\u001b[0m, in \u001b[0;36m<cell line: 1>\u001b[1;34m()\u001b[0m\n\u001b[1;32m----> 1\u001b[0m \u001b[38;5;28mprint\u001b[39m (\u001b[43manswer\u001b[49m\u001b[38;5;241m.\u001b[39mupper())\n",
      "\u001b[1;31mNameError\u001b[0m: name 'answer' is not defined"
     ]
    }
   ],
   "source": [
    "print (answer.upper())"
   ]
  },
  {
   "cell_type": "code",
   "execution_count": null,
   "id": "00063867",
   "metadata": {},
   "outputs": [],
   "source": []
  }
 ],
 "metadata": {
  "kernelspec": {
   "display_name": "Python 3 (ipykernel)",
   "language": "python",
   "name": "python3"
  },
  "language_info": {
   "codemirror_mode": {
    "name": "ipython",
    "version": 3
   },
   "file_extension": ".py",
   "mimetype": "text/x-python",
   "name": "python",
   "nbconvert_exporter": "python",
   "pygments_lexer": "ipython3",
   "version": "3.9.12"
  }
 },
 "nbformat": 4,
 "nbformat_minor": 5
}
